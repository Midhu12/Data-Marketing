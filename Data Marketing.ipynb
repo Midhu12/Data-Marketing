{
 "cells": [
  {
   "cell_type": "code",
   "execution_count": 1,
   "id": "86209097",
   "metadata": {},
   "outputs": [
    {
     "name": "stderr",
     "output_type": "stream",
     "text": [
      "C:\\Users\\LENOVO\\anaconda3\\Lib\\site-packages\\pandas\\core\\arrays\\masked.py:60: UserWarning: Pandas requires version '1.3.6' or newer of 'bottleneck' (version '1.3.5' currently installed).\n",
      "  from pandas.core import (\n"
     ]
    }
   ],
   "source": [
    "import pandas as pd\n",
    "\n",
    "# Read the dataset\n",
    "dataset = pd.read_csv(\"Inputdata.csv\")\n",
    "\n",
    "# Fill missing values with 0\n",
    "dataset.fillna(0, inplace=True)\n"
   ]
  },
  {
   "cell_type": "code",
   "execution_count": 2,
   "id": "ab48f47b",
   "metadata": {},
   "outputs": [
    {
     "data": {
      "text/plain": [
       "array(['ForeignSales-AsiaAntartrica', 'Feedbackrs9',\n",
       "       'Foreign|Sales|Tamil - Advantage+ shopping campaign – Copy',\n",
       "       '3dayslive – Copy 2 - Advantage+ shopping campaign',\n",
       "       'Foreign|Sales|Tamil', '3dayslive – Copy'], dtype=object)"
      ]
     },
     "execution_count": 2,
     "metadata": {},
     "output_type": "execute_result"
    }
   ],
   "source": [
    "dataset[\"Campaign name\"].unique()"
   ]
  },
  {
   "cell_type": "code",
   "execution_count": 3,
   "id": "eef79596",
   "metadata": {},
   "outputs": [
    {
     "name": "stdout",
     "output_type": "stream",
     "text": [
      "          Date  AD Spent  No.of.Leads  Cost per Lead    CTR  Link Click  \\\n",
      "25  17Mar(Sun)   1941.11         21.0      92.433810  0.67%       100.0   \n",
      "23  18Mar(Mon)   2001.02         10.0     200.102000  0.54%        97.0   \n",
      "20  19Mar(Tue)   2009.33         18.0     111.629444  0.64%       135.0   \n",
      "19  20Mar(Wed)   1997.54         11.0     181.594545  0.43%        92.0   \n",
      "16  21Mar(Thu)   1982.31         20.0      99.115500   0.5%       111.0   \n",
      "13  22Mar(Fri)   1983.00         11.0     180.272727  0.41%       101.0   \n",
      "10  23Mar(Sat)   1941.17         15.0     129.411333   0.4%       102.0   \n",
      "9   24Mar(Sun)   1573.42          5.0     314.684000  0.47%        98.0   \n",
      "1   31Mar(Sun)    497.70          1.0     497.700000  0.38%        22.0   \n",
      "\n",
      "    LP Views  Member Passed LP Conversion%  \n",
      "25      80.0      80.000000         26.25%  \n",
      "23      63.0      64.948454         15.87%  \n",
      "20      87.0      64.444444         20.69%  \n",
      "19      75.0      81.521739         14.67%  \n",
      "16      90.0      81.081081         22.22%  \n",
      "13      71.0      70.297030         15.49%  \n",
      "10      72.0      70.588235         20.83%  \n",
      "9       65.0      66.326531          7.69%  \n",
      "1       14.0      63.636364          7.14%  \n"
     ]
    }
   ],
   "source": [
    "import pandas as pd\n",
    "\n",
    "# Assuming you have already read the dataset and assigned it to the variable 'dataset'\n",
    "\n",
    "# Choose the campaign name you want to calculate data for\n",
    "chosen_campaign = 'Feedbackrs9'\n",
    "\n",
    "# Convert 'Day' column to datetime format and create a new formatted date column\n",
    "dataset['Date'] = pd.to_datetime(dataset['Day'])\n",
    "dataset['Formatted Date'] = dataset['Date'].dt.strftime('%d%b(%a)')\n",
    "\n",
    "# Filter the DataFrame for the chosen campaign and sort it\n",
    "df = dataset[dataset['Campaign name'] == chosen_campaign].sort_values(by=['Campaign name', 'Date'])\n",
    "\n",
    "# Replace NaN values with numeric 0\n",
    "df.fillna(0, inplace=True)\n",
    "\n",
    "# Filter out rows with zero 'Landing page views'\n",
    "df = df[df['Landing page views'] != 0]\n",
    "\n",
    "# Calculate values for the chosen campaign and create a DataFrame\n",
    "df = pd.DataFrame({\n",
    "    'Date': df['Formatted Date'], \n",
    "    'AD Spent': df['Amount spent (INR)'], \n",
    "    'No.of.Leads': df['Results'],\n",
    "    'Cost per Lead': df['Amount spent (INR)'] / df['Results'],\n",
    "    'CTR': (df['CTR (link click-through rate)'].round(2)).astype(str) + '%', \n",
    "    'Link Click': df['Link clicks'],\n",
    "    'LP Views': df['Landing page views'],\n",
    "    'Member Passed': (df['Landing page views'] / df['Link clicks']) * 100 % 100,\n",
    "    'LP Conversion%': ((df['Results'] / df['Landing page views'] * 100 % 100).round(2)).astype(str) + '%'\n",
    "})\n",
    "\n",
    "print(df)\n",
    "# Save the DataFrame to a CSV file without including row indices\n",
    "df.to_csv(\"Feedbackrs9.csv\", index=False)\n"
   ]
  },
  {
   "cell_type": "code",
   "execution_count": null,
   "id": "34a4d7cc",
   "metadata": {},
   "outputs": [],
   "source": []
  },
  {
   "cell_type": "code",
   "execution_count": null,
   "id": "113ab9c1",
   "metadata": {},
   "outputs": [],
   "source": []
  }
 ],
 "metadata": {
  "kernelspec": {
   "display_name": "Python 3 (ipykernel)",
   "language": "python",
   "name": "python3"
  },
  "language_info": {
   "codemirror_mode": {
    "name": "ipython",
    "version": 3
   },
   "file_extension": ".py",
   "mimetype": "text/x-python",
   "name": "python",
   "nbconvert_exporter": "python",
   "pygments_lexer": "ipython3",
   "version": "3.11.0"
  }
 },
 "nbformat": 4,
 "nbformat_minor": 5
}
